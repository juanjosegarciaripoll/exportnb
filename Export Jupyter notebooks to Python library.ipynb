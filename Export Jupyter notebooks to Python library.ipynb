{
 "cells": [
  {
   "cell_type": "markdown",
   "metadata": {},
   "source": [
    "# Export Jupyter Notebooks\n",
    "\n",
    "The following code takes a bunch of Jupyter notebooks and extracts code cells building a library out of them. The goal is to have a tool that allows us to write all Python code in the form of Jupyter notebooks, so as to better document their development, underlying algorithms and even sample applications, and then build useful (and compact) libraries out of those self-documented files.\n",
    "\n",
    "This notebook itself is an example of the intended use, being written as a collection of text and code cells, which are selectively exported into a single Python file, the library `exportnb.py`"
   ]
  },
  {
   "cell_type": "markdown",
   "metadata": {},
   "source": [
    "The logic of the program is as follows. It takes a bunch of Jupyter notebook file names and reads all of those notebooks, one after another. For each cell, it looks for the first line to find whether it contains the line `# file: xxxxx`, where `xxxxx` can be any valid file name. If so, it adds the cell to the code that is to be exported into the file with that name.\n",
    "\n",
    "Some remarks:\n",
    "\n",
    "* File names may contain directory names. By default, those directories will be built by the exporting routine.\n",
    "\n",
    "* Multiple cells can be written to the same Python file. They are written in the order in which they appear, which is the usual one.\n",
    "\n",
    "* Also, a single Jupyter notebook can contain code for multiple files.\n",
    "\n",
    "* If the file name contains spaces, use enclose it in double-quotes, as in `# file: \"my long file name.py\"`. I am not sure this is useful, though, as `import` statements do not allow spaces in file names.\n",
    "\n",
    "* By default, the code inserts empty newlines between cells. This avoids frequent errors that originate from different indentations in different cells, functions being joined, etc."
   ]
  },
  {
   "cell_type": "markdown",
   "metadata": {},
   "source": [
    "## The library"
   ]
  },
  {
   "cell_type": "markdown",
   "metadata": {},
   "source": [
    "We begin the code importing libraries to read Jupyter notebooks, which are nothing but JSON code -- i.e. javascript parseable data."
   ]
  },
  {
   "cell_type": "code",
   "execution_count": 1,
   "metadata": {},
   "outputs": [],
   "source": [
    "# file: exportnb.py\n",
    "#\n",
    "# exportnb.py\n",
    "#\n",
    "#  Library for exporting multiple Jupyter notebooks into a series of\n",
    "#  Python files. Main interface provided by function `export_notebooks`\n",
    "#  below.\n",
    "#\n",
    "#  Author: Juan José García Ripoll\n",
    "#  License: See http://opensource.org/licenses/MIT\n",
    "#  Version: 1.0 (15/07/2018)\n",
    "#\n",
    "import sys, json, re, pathlib"
   ]
  },
  {
   "cell_type": "markdown",
   "metadata": {},
   "source": [
    "We then build the function that parses a cell and determines whether it is to be exported."
   ]
  },
  {
   "cell_type": "code",
   "execution_count": 2,
   "metadata": {},
   "outputs": [],
   "source": [
    "# file: exportnb.py\n",
    "def file_cell(lines):\n",
    "    #\n",
    "    # Determine whether a cell is to be saved as code. This\n",
    "    # is done by inspecting the lines of the cell and looking\n",
    "    # for a line with a comment of the form # file: xxxxx\n",
    "    # If so, it eliminates this line and collects the remaining\n",
    "    # text as code.\n",
    "    #\n",
    "    if len(lines):\n",
    "        ok = re.search('^#[ ]+file:[ ]+(\"[^\\\\\"]*\"|[^ \\n]*)[ \\n]*$', lines[0])\n",
    "        if ok:\n",
    "            return ok.group(1), lines[1:]\n",
    "    return False, lines"
   ]
  },
  {
   "cell_type": "markdown",
   "metadata": {},
   "source": [
    "This function uses the previous one to decide whether to add the lines to a dictionary that associates file names with text content (the lines of the cell that we received above)."
   ]
  },
  {
   "cell_type": "code",
   "execution_count": 3,
   "metadata": {},
   "outputs": [],
   "source": [
    "# file: exportnb.py\n",
    "\n",
    "def register_cell(dictionary, cell_lines, add_newline=True):\n",
    "    #\n",
    "    # Input:\n",
    "    #  - dictionary: a map from file names to lists of lines\n",
    "    #    of code that will be written to the file\n",
    "    #  - cell_lines: lines of a cell in a Jupyter notebook\n",
    "    #  - add_newline: add empty line after each cell\n",
    "    #\n",
    "    # Output:\n",
    "    #  - updated dictionary\n",
    "    #\n",
    "    file, lines = file_cell(cell_lines)\n",
    "    if file:\n",
    "        if file in dictionary:\n",
    "            lines = dictionary[file] + lines\n",
    "        if add_newline:\n",
    "            lines += ['\\n']\n",
    "        dictionary[file] = lines\n",
    "    return dictionary"
   ]
  },
  {
   "cell_type": "markdown",
   "metadata": {},
   "source": [
    "We now create a file that parses a whole notebook, loading the content into a dictionary that associates files with cell content."
   ]
  },
  {
   "cell_type": "code",
   "execution_count": 4,
   "metadata": {},
   "outputs": [],
   "source": [
    "# file: exportnb.py\n",
    "\n",
    "def read_notebook(dictionary, notebook, add_newline = True):    \n",
    "    with open(notebook, 'r', encoding='utf-8') as f:\n",
    "        j = json.load(f)\n",
    "        if j[\"nbformat\"] >=4:\n",
    "            for i,cell in enumerate(j[\"cells\"]):\n",
    "                dictionary = register_cell(dictionary, cell[\"source\"], add_newline)\n",
    "        else:\n",
    "            for i,cell in enumerate(j[\"worksheets\"][0][\"cells\"]):\n",
    "                dictionary = register_cell(dictionary, cell[\"input\"], add_newline)"
   ]
  },
  {
   "cell_type": "markdown",
   "metadata": {},
   "source": [
    "Finally, we save the content of a whole dictionary, overwriting files. We add some intelligence, ensuring that directories are properly built."
   ]
  },
  {
   "cell_type": "code",
   "execution_count": 5,
   "metadata": {},
   "outputs": [],
   "source": [
    "# file: exportnb.py\n",
    "\n",
    "def write_notebooks(dictionary, root='', mkdirs=True):\n",
    "    #\n",
    "    # Input:\n",
    "    #  - dictionary: a map from file names to list of lines of codes\n",
    "    #    to be written\n",
    "    #  - root: prefix to be added to all file names\n",
    "    #  - mkdirs: create parent directories if they do not exist\n",
    "    #\n",
    "    for file in dictionary.keys():\n",
    "        path = pathlib.Path(file)\n",
    "        if mkdirs:\n",
    "            path.parent.mkdir(parents=True, exist_ok=True)\n",
    "        with path.open('w', encoding='utf-8') as f:\n",
    "            for line in dictionary[file]:\n",
    "                f.write(line)"
   ]
  },
  {
   "cell_type": "markdown",
   "metadata": {},
   "source": [
    "All these functions are combined into a single interface, give by the next one."
   ]
  },
  {
   "cell_type": "code",
   "execution_count": 8,
   "metadata": {},
   "outputs": [],
   "source": [
    "# file: exportnb.py\n",
    "\n",
    "def export_notebooks(notebooks, root='', add_newline=True, mkdirs=True):\n",
    "    #\n",
    "    # Input:\n",
    "    #  - notebooks: list of notebooks as file names\n",
    "    #  - root: prefix for exporting all notebooks\n",
    "    #  - add_linewline: add empty lines between cells\n",
    "    #\n",
    "    dictionary = {}\n",
    "    for nb in notebooks:\n",
    "        read_notebook(dictionary, nb, add_newline=add_newline)\n",
    "    write_notebooks(dictionary, root=root, mkdirs=mkdirs)"
   ]
  },
  {
   "cell_type": "markdown",
   "metadata": {},
   "source": [
    "## Test and build the library"
   ]
  },
  {
   "cell_type": "markdown",
   "metadata": {},
   "source": [
    "We test the library with the following line, which packs the whole file into a single file `exportnb.py`, as specified above."
   ]
  },
  {
   "cell_type": "code",
   "execution_count": 7,
   "metadata": {},
   "outputs": [],
   "source": [
    "export_notebooks(['Export Jupyter notebooks to Python library.ipynb'])"
   ]
  }
 ],
 "metadata": {
  "kernelspec": {
   "display_name": "Python 3",
   "language": "python",
   "name": "python3"
  },
  "language_info": {
   "codemirror_mode": {
    "name": "ipython",
    "version": 3
   },
   "file_extension": ".py",
   "mimetype": "text/x-python",
   "name": "python",
   "nbconvert_exporter": "python",
   "pygments_lexer": "ipython3",
   "version": "3.7.7"
  }
 },
 "nbformat": 4,
 "nbformat_minor": 2
}
